{
 "cells": [
  {
   "cell_type": "markdown",
   "id": "e8a67a4b",
   "metadata": {},
   "source": [
    "# Total liquido"
   ]
  },
  {
   "cell_type": "code",
   "execution_count": 1,
   "id": "8c93466d",
   "metadata": {},
   "outputs": [],
   "source": [
    "from pyspark.sql.functions import sum\n",
    "from pyspark.sql import SparkSession"
   ]
  },
  {
   "cell_type": "code",
   "execution_count": 2,
   "id": "05961a7c",
   "metadata": {},
   "outputs": [
    {
     "name": "stderr",
     "output_type": "stream",
     "text": [
      "23/02/12 17:45:19 WARN Utils: Your hostname, Grelinho-de-Diamante-s-MacBook-Pro.local resolves to a loopback address: 127.0.0.1; using 192.168.0.163 instead (on interface en0)\n",
      "23/02/12 17:45:19 WARN Utils: Set SPARK_LOCAL_IP if you need to bind to another address\n",
      "WARNING: An illegal reflective access operation has occurred\n",
      "WARNING: Illegal reflective access by org.apache.spark.unsafe.Platform (file:/Users/marcelabarella/opt/anaconda3/lib/python3.9/site-packages/pyspark/jars/spark-unsafe_2.12-3.2.1.jar) to constructor java.nio.DirectByteBuffer(long,int)\n",
      "WARNING: Please consider reporting this to the maintainers of org.apache.spark.unsafe.Platform\n",
      "WARNING: Use --illegal-access=warn to enable warnings of further illegal reflective access operations\n",
      "WARNING: All illegal access operations will be denied in a future release\n",
      "Using Spark's default log4j profile: org/apache/spark/log4j-defaults.properties\n",
      "Setting default log level to \"WARN\".\n",
      "To adjust logging level use sc.setLogLevel(newLevel). For SparkR, use setLogLevel(newLevel).\n",
      "23/02/12 17:45:21 WARN NativeCodeLoader: Unable to load native-hadoop library for your platform... using builtin-java classes where applicable\n"
     ]
    }
   ],
   "source": [
    "spark = SparkSession.builder.appName('Total liquido').getOrCreate()"
   ]
  },
  {
   "cell_type": "code",
   "execution_count": 3,
   "id": "b5f08f51",
   "metadata": {},
   "outputs": [],
   "source": [
    "transacoes = [{'transacao_id': 1, 'total_bruto': 3000, 'desconto_percentual': 6.99},\n",
    "             {'transacao_id': 2, 'total_bruto': 57989, 'desconto_percentual': 1.45},\n",
    "             {'transacao_id': 4, 'total_bruto': 1, 'desconto_percentual': None},\n",
    "             {'transacao_id': 5, 'total_bruto': 34, 'desconto_percentual': 0.0}]"
   ]
  },
  {
   "cell_type": "code",
   "execution_count": 4,
   "id": "43608b7e",
   "metadata": {},
   "outputs": [],
   "source": [
    "df = spark.createDataFrame(transacoes)"
   ]
  },
  {
   "cell_type": "code",
   "execution_count": 5,
   "id": "be9fd3a9",
   "metadata": {},
   "outputs": [],
   "source": [
    "df = df.fillna(0.0)"
   ]
  },
  {
   "cell_type": "code",
   "execution_count": 6,
   "id": "56665b72",
   "metadata": {
    "scrolled": true
   },
   "outputs": [],
   "source": [
    "df = df.withColumn('total_liquido_individual', df['total_bruto'] * ((1 - df['desconto_percentual']/100)))"
   ]
  },
  {
   "cell_type": "code",
   "execution_count": 10,
   "id": "959ab55b",
   "metadata": {
    "scrolled": true
   },
   "outputs": [
    {
     "ename": "TypeError",
     "evalue": "type str doesn't define __round__ method",
     "output_type": "error",
     "traceback": [
      "\u001b[0;31m---------------------------------------------------------------------------\u001b[0m",
      "\u001b[0;31mTypeError\u001b[0m                                 Traceback (most recent call last)",
      "\u001b[0;32m/var/folders/m6/gh_vcdh548lb1gmmnd2xkm8m0000gn/T/ipykernel_11293/759634536.py\u001b[0m in \u001b[0;36m<module>\u001b[0;34m\u001b[0m\n\u001b[0;32m----> 1\u001b[0;31m \u001b[0mdf\u001b[0m\u001b[0;34m.\u001b[0m\u001b[0mselect\u001b[0m\u001b[0;34m(\u001b[0m\u001b[0msum\u001b[0m\u001b[0;34m(\u001b[0m\u001b[0mdf\u001b[0m\u001b[0;34m.\u001b[0m\u001b[0mtotal_liquido_individual\u001b[0m\u001b[0;34m)\u001b[0m\u001b[0;34m,\u001b[0m \u001b[0mround\u001b[0m\u001b[0;34m(\u001b[0m\u001b[0;34m'total_liquido_individual'\u001b[0m\u001b[0;34m)\u001b[0m\u001b[0;34m)\u001b[0m\u001b[0;34m.\u001b[0m\u001b[0mshow\u001b[0m\u001b[0;34m(\u001b[0m\u001b[0;34m)\u001b[0m\u001b[0;34m\u001b[0m\u001b[0;34m\u001b[0m\u001b[0m\n\u001b[0m",
      "\u001b[0;31mTypeError\u001b[0m: type str doesn't define __round__ method"
     ]
    }
   ],
   "source": [
    "df.select(sum(df.total_liquido_individual), round('total_liquido_individual')).show()"
   ]
  },
  {
   "cell_type": "code",
   "execution_count": null,
   "id": "fbc8f83d",
   "metadata": {},
   "outputs": [],
   "source": []
  }
 ],
 "metadata": {
  "kernelspec": {
   "display_name": "Python 3 (ipykernel)",
   "language": "python",
   "name": "python3"
  },
  "language_info": {
   "codemirror_mode": {
    "name": "ipython",
    "version": 3
   },
   "file_extension": ".py",
   "mimetype": "text/x-python",
   "name": "python",
   "nbconvert_exporter": "python",
   "pygments_lexer": "ipython3",
   "version": "3.9.13"
  }
 },
 "nbformat": 4,
 "nbformat_minor": 5
}
