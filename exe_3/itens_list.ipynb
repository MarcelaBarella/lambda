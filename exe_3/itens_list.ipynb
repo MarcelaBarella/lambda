{
 "cells": [
  {
   "cell_type": "markdown",
   "id": "8f150eab",
   "metadata": {},
   "source": [
    "# Itens e notas fiscais"
   ]
  },
  {
   "cell_type": "markdown",
   "id": "b2c6af4d",
   "metadata": {},
   "source": [
    "Neste notebook está contida minha solução para a questão 3, a proposta é a criação de 3 data frames que relacionam notas ficais a itens nelas contidos permitindo uma base para a criação de tabelas em um banco relacional."
   ]
  },
  {
   "cell_type": "code",
   "execution_count": 524,
   "id": "aac137fc",
   "metadata": {},
   "outputs": [],
   "source": [
    "from collections import defaultdict\n",
    "import pandas as pd"
   ]
  },
  {
   "cell_type": "code",
   "execution_count": 525,
   "id": "d1ea6456",
   "metadata": {},
   "outputs": [],
   "source": [
    "df = pd.read_json('./itens.json')"
   ]
  },
  {
   "cell_type": "markdown",
   "id": "883787ad",
   "metadata": {},
   "source": [
    "O data frame **df_itens** é referente a tabela de produto contendo o seu id/index e valor para que possa ser buscado e e então calculado o valor total de uma nota fiscal"
   ]
  },
  {
   "cell_type": "code",
   "execution_count": 526,
   "id": "47ddd710",
   "metadata": {},
   "outputs": [],
   "source": [
    "df_itens = pd.DataFrame(df['ItemList']).explode('ItemList')"
   ]
  },
  {
   "cell_type": "code",
   "execution_count": 541,
   "id": "8179c872",
   "metadata": {},
   "outputs": [],
   "source": [
    "temp = []\n",
    "prod_name_temp = []\n",
    "quantity_temp = []"
   ]
  },
  {
   "cell_type": "code",
   "execution_count": 542,
   "id": "cb4948f8",
   "metadata": {},
   "outputs": [],
   "source": [
    "for _, row in df.iterrows():\n",
    "    df_temp = pd.DataFrame(columns=['NFeID', 'ProductName', 'Quantity'])\n",
    "    df_temp['NFeID'] = pd.Series(row['NFeID'])\n",
    "    for item in row['ItemList']:\n",
    "        prod_name_temp.append(item['ProductName'])\n",
    "        quantity_temp.append(item['Quantity'])\n",
    "    temp.append(df_temp)"
   ]
  },
  {
   "cell_type": "code",
   "execution_count": 543,
   "id": "fb2a3f9e",
   "metadata": {
    "scrolled": true
   },
   "outputs": [
    {
     "data": {
      "text/plain": [
       "[   NFeID ProductName Quantity\n",
       " 0      1         NaN      NaN,\n",
       "    NFeID ProductName Quantity\n",
       " 0      2         NaN      NaN,\n",
       "    NFeID ProductName Quantity\n",
       " 0      3         NaN      NaN]"
      ]
     },
     "execution_count": 543,
     "metadata": {},
     "output_type": "execute_result"
    }
   ],
   "source": [
    "temp"
   ]
  },
  {
   "cell_type": "markdown",
   "id": "40c3431d",
   "metadata": {},
   "source": [
    "O data frame **df_nf_itens** relaciona as tabelas de notas fiscais e produtos onde através do id da nota fiscal pode-se buscar um determinado produto e suas quantidades para o calculo do total gasto com esse produto nesta nota fiscal"
   ]
  },
  {
   "cell_type": "code",
   "execution_count": 531,
   "id": "f8080192",
   "metadata": {},
   "outputs": [
    {
     "data": {
      "text/html": [
       "<div>\n",
       "<style scoped>\n",
       "    .dataframe tbody tr th:only-of-type {\n",
       "        vertical-align: middle;\n",
       "    }\n",
       "\n",
       "    .dataframe tbody tr th {\n",
       "        vertical-align: top;\n",
       "    }\n",
       "\n",
       "    .dataframe thead th {\n",
       "        text-align: right;\n",
       "    }\n",
       "</style>\n",
       "<table border=\"1\" class=\"dataframe\">\n",
       "  <thead>\n",
       "    <tr style=\"text-align: right;\">\n",
       "      <th></th>\n",
       "      <th>NFeID</th>\n",
       "      <th>ProductName</th>\n",
       "      <th>Quantity</th>\n",
       "    </tr>\n",
       "  </thead>\n",
       "  <tbody>\n",
       "    <tr>\n",
       "      <th>0</th>\n",
       "      <td>1</td>\n",
       "      <td>Bean</td>\n",
       "      <td>7</td>\n",
       "    </tr>\n",
       "    <tr>\n",
       "      <th>0</th>\n",
       "      <td>2</td>\n",
       "      <td>Pasta</td>\n",
       "      <td>5</td>\n",
       "    </tr>\n",
       "    <tr>\n",
       "      <th>0</th>\n",
       "      <td>3</td>\n",
       "      <td>Ice cream</td>\n",
       "      <td>1</td>\n",
       "    </tr>\n",
       "  </tbody>\n",
       "</table>\n",
       "</div>"
      ],
      "text/plain": [
       "   NFeID ProductName  Quantity\n",
       "0      1        Bean         7\n",
       "0      2       Pasta         5\n",
       "0      3   Ice cream         1"
      ]
     },
     "execution_count": 531,
     "metadata": {},
     "output_type": "execute_result"
    }
   ],
   "source": [
    "df_nf_itens = pd.concat(temp)"
   ]
  },
  {
   "cell_type": "code",
   "execution_count": 544,
   "id": "75e3afee",
   "metadata": {},
   "outputs": [
    {
     "data": {
      "text/html": [
       "<div>\n",
       "<style scoped>\n",
       "    .dataframe tbody tr th:only-of-type {\n",
       "        vertical-align: middle;\n",
       "    }\n",
       "\n",
       "    .dataframe tbody tr th {\n",
       "        vertical-align: top;\n",
       "    }\n",
       "\n",
       "    .dataframe thead th {\n",
       "        text-align: right;\n",
       "    }\n",
       "</style>\n",
       "<table border=\"1\" class=\"dataframe\">\n",
       "  <thead>\n",
       "    <tr style=\"text-align: right;\">\n",
       "      <th></th>\n",
       "      <th>index</th>\n",
       "      <th>NFeID</th>\n",
       "      <th>ProductName</th>\n",
       "      <th>Quantity</th>\n",
       "    </tr>\n",
       "  </thead>\n",
       "  <tbody>\n",
       "    <tr>\n",
       "      <th>0</th>\n",
       "      <td>0</td>\n",
       "      <td>1</td>\n",
       "      <td>Bean</td>\n",
       "      <td>7</td>\n",
       "    </tr>\n",
       "    <tr>\n",
       "      <th>1</th>\n",
       "      <td>0</td>\n",
       "      <td>2</td>\n",
       "      <td>Pasta</td>\n",
       "      <td>5</td>\n",
       "    </tr>\n",
       "    <tr>\n",
       "      <th>2</th>\n",
       "      <td>0</td>\n",
       "      <td>3</td>\n",
       "      <td>Ice cream</td>\n",
       "      <td>1</td>\n",
       "    </tr>\n",
       "  </tbody>\n",
       "</table>\n",
       "</div>"
      ],
      "text/plain": [
       "   index  NFeID ProductName  Quantity\n",
       "0      0      1        Bean         7\n",
       "1      0      2       Pasta         5\n",
       "2      0      3   Ice cream         1"
      ]
     },
     "execution_count": 544,
     "metadata": {},
     "output_type": "execute_result"
    }
   ],
   "source": [
    "df_nf_itens.reset_index()"
   ]
  },
  {
   "cell_type": "code",
   "execution_count": 500,
   "id": "185b8909",
   "metadata": {},
   "outputs": [],
   "source": [
    "dfs = []"
   ]
  },
  {
   "cell_type": "code",
   "execution_count": 501,
   "id": "6517ca19",
   "metadata": {
    "scrolled": true
   },
   "outputs": [],
   "source": [
    "for _, row in df_itens.iterrows():\n",
    "    df_i = pd.DataFrame(row['ItemList'], index=[0])\n",
    "    dfs.append(df_i)"
   ]
  },
  {
   "cell_type": "code",
   "execution_count": 502,
   "id": "dd25220a",
   "metadata": {},
   "outputs": [],
   "source": [
    "df_itens = pd.concat(dfs)"
   ]
  },
  {
   "cell_type": "markdown",
   "id": "4ab9b40a",
   "metadata": {},
   "source": [
    "Devido a falta de id para produto, tomei a liberdade de usar index como nome apesar de não achar a melhor ideia. Também pensei em utilizar a quantidade de linhas (algo como range(1, len(df_itens.rows()) porém, caso fosse adionado algum produto de nome igual a algum produto existente seria necessario agrupar estes produtos em uma mesma linha."
   ]
  },
  {
   "cell_type": "code",
   "execution_count": 503,
   "id": "deb9d144",
   "metadata": {},
   "outputs": [],
   "source": [
    "df_itens = df_itens.set_index('ProductName')"
   ]
  },
  {
   "cell_type": "code",
   "execution_count": 504,
   "id": "3dc4f825",
   "metadata": {},
   "outputs": [
    {
     "data": {
      "text/html": [
       "<div>\n",
       "<style scoped>\n",
       "    .dataframe tbody tr th:only-of-type {\n",
       "        vertical-align: middle;\n",
       "    }\n",
       "\n",
       "    .dataframe tbody tr th {\n",
       "        vertical-align: top;\n",
       "    }\n",
       "\n",
       "    .dataframe thead th {\n",
       "        text-align: right;\n",
       "    }\n",
       "</style>\n",
       "<table border=\"1\" class=\"dataframe\">\n",
       "  <thead>\n",
       "    <tr style=\"text-align: right;\">\n",
       "      <th></th>\n",
       "      <th>Value</th>\n",
       "    </tr>\n",
       "    <tr>\n",
       "      <th>ProductName</th>\n",
       "      <th></th>\n",
       "    </tr>\n",
       "  </thead>\n",
       "  <tbody>\n",
       "    <tr>\n",
       "      <th>Rice</th>\n",
       "      <td>35.55</td>\n",
       "    </tr>\n",
       "    <tr>\n",
       "      <th>Flour</th>\n",
       "      <td>11.55</td>\n",
       "    </tr>\n",
       "    <tr>\n",
       "      <th>Bean</th>\n",
       "      <td>27.15</td>\n",
       "    </tr>\n",
       "    <tr>\n",
       "      <th>Tomate</th>\n",
       "      <td>12.25</td>\n",
       "    </tr>\n",
       "    <tr>\n",
       "      <th>Pasta</th>\n",
       "      <td>7.55</td>\n",
       "    </tr>\n",
       "    <tr>\n",
       "      <th>Beer</th>\n",
       "      <td>9.00</td>\n",
       "    </tr>\n",
       "    <tr>\n",
       "      <th>French fries</th>\n",
       "      <td>10.99</td>\n",
       "    </tr>\n",
       "    <tr>\n",
       "      <th>Ice cream</th>\n",
       "      <td>27.15</td>\n",
       "    </tr>\n",
       "  </tbody>\n",
       "</table>\n",
       "</div>"
      ],
      "text/plain": [
       "              Value\n",
       "ProductName        \n",
       "Rice          35.55\n",
       "Flour         11.55\n",
       "Bean          27.15\n",
       "Tomate        12.25\n",
       "Pasta          7.55\n",
       "Beer           9.00\n",
       "French fries  10.99\n",
       "Ice cream     27.15"
      ]
     },
     "execution_count": 504,
     "metadata": {},
     "output_type": "execute_result"
    }
   ],
   "source": [
    "df_itens.drop('Quantity', axis=1)"
   ]
  },
  {
   "cell_type": "code",
   "execution_count": 380,
   "id": "f5b58584",
   "metadata": {
    "scrolled": true
   },
   "outputs": [
    {
     "data": {
      "text/html": [
       "<div>\n",
       "<style scoped>\n",
       "    .dataframe tbody tr th:only-of-type {\n",
       "        vertical-align: middle;\n",
       "    }\n",
       "\n",
       "    .dataframe tbody tr th {\n",
       "        vertical-align: top;\n",
       "    }\n",
       "\n",
       "    .dataframe thead th {\n",
       "        text-align: right;\n",
       "    }\n",
       "</style>\n",
       "<table border=\"1\" class=\"dataframe\">\n",
       "  <thead>\n",
       "    <tr style=\"text-align: right;\">\n",
       "      <th></th>\n",
       "      <th>CreateDate</th>\n",
       "      <th>EmissionDate</th>\n",
       "      <th>Discount</th>\n",
       "      <th>NFeNumber</th>\n",
       "    </tr>\n",
       "    <tr>\n",
       "      <th>NFeID</th>\n",
       "      <th></th>\n",
       "      <th></th>\n",
       "      <th></th>\n",
       "      <th></th>\n",
       "    </tr>\n",
       "  </thead>\n",
       "  <tbody>\n",
       "    <tr>\n",
       "      <th>1</th>\n",
       "      <td>2021-05-24T20:21:34.79</td>\n",
       "      <td>2021-05-24T00:00:00</td>\n",
       "      <td>0</td>\n",
       "      <td>501</td>\n",
       "    </tr>\n",
       "    <tr>\n",
       "      <th>2</th>\n",
       "      <td>2021-05-24T20:21:34.79</td>\n",
       "      <td>2021-05-24T00:00:00</td>\n",
       "      <td>0</td>\n",
       "      <td>502</td>\n",
       "    </tr>\n",
       "    <tr>\n",
       "      <th>3</th>\n",
       "      <td>2021-05-24T20:21:34.79</td>\n",
       "      <td>2021-05-24T00:00:00</td>\n",
       "      <td>0</td>\n",
       "      <td>503</td>\n",
       "    </tr>\n",
       "  </tbody>\n",
       "</table>\n",
       "</div>"
      ],
      "text/plain": [
       "                   CreateDate         EmissionDate  Discount  NFeNumber\n",
       "NFeID                                                                  \n",
       "1      2021-05-24T20:21:34.79  2021-05-24T00:00:00         0        501\n",
       "2      2021-05-24T20:21:34.79  2021-05-24T00:00:00         0        502\n",
       "3      2021-05-24T20:21:34.79  2021-05-24T00:00:00         0        503"
      ]
     },
     "execution_count": 380,
     "metadata": {},
     "output_type": "execute_result"
    }
   ],
   "source": [
    "df_notas.set_index('NFeID')"
   ]
  },
  {
   "cell_type": "markdown",
   "id": "18f229a2",
   "metadata": {},
   "source": [
    "Em casos de tabelas pequenas (com poucas quantidades de linhas) também é possível adicionar/manter os ids do produto (neste caso o **ProductName**) no **df_notas** para transforma-los em tabelas relacionais sem que o desempenho de busca destas tabelas seja comprometido."
   ]
  },
  {
   "cell_type": "code",
   "execution_count": null,
   "id": "d2525d40",
   "metadata": {},
   "outputs": [],
   "source": []
  }
 ],
 "metadata": {
  "kernelspec": {
   "display_name": "Python 3 (ipykernel)",
   "language": "python",
   "name": "python3"
  },
  "language_info": {
   "codemirror_mode": {
    "name": "ipython",
    "version": 3
   },
   "file_extension": ".py",
   "mimetype": "text/x-python",
   "name": "python",
   "nbconvert_exporter": "python",
   "pygments_lexer": "ipython3",
   "version": "3.9.13"
  }
 },
 "nbformat": 4,
 "nbformat_minor": 5
}
